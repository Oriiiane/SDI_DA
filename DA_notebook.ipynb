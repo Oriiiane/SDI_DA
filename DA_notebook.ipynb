{
 "cells": [
  {
   "cell_type": "markdown",
   "metadata": {},
   "source": [
    "# US Adult Income"
   ]
  },
  {
   "cell_type": "markdown",
   "metadata": {},
   "source": [
    "## Dataset"
   ]
  },
  {
   "cell_type": "markdown",
   "metadata": {},
   "source": [
    "### Description"
   ]
  },
  {
   "cell_type": "markdown",
   "metadata": {},
   "source": [
    "<div style=\"background-color: rgba(255, 255, 0, 0.15); padding: 8px;\">\n",
    "\n",
    "The US Adult Income dataset, sourced from [Kaggle](https://www.kaggle.com/datasets/johnolafenwa/us-census-data), was originally extracted by Barry Becker from the 1994 US Census Database. It contains anonymous data about various social and economic factors, including occupation, age, native country, race, capital gain, capital loss, education, work class, and more.\n",
    "\n",
    "Each entry in the dataset is labeled based on income, categorizing individuals as earning either \">50K\" or \"<=50K\" annually. This classification allows for the analysis of how different social factors correlate with income levels.\n",
    "\n",
    "The dataset is divided into two CSV files:\n",
    "* `adult-training.txt`: Contains data used for training models.\n",
    "* `adult-test.txt`: Contains data used for testing models.\n",
    "\n",
    "This dataset is commonly utilized for machine learning tasks focused on income prediction and social factor analysis.\n",
    "</div>"
   ]
  },
  {
   "cell_type": "code",
   "execution_count": null,
   "metadata": {},
   "outputs": [],
   "source": []
  }
 ],
 "metadata": {
  "language_info": {
   "name": "python"
  }
 },
 "nbformat": 4,
 "nbformat_minor": 2
}
